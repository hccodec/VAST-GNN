{
 "cells": [
  {
   "cell_type": "code",
   "execution_count": 4,
   "metadata": {},
   "outputs": [
    {
     "name": "stdout",
     "output_type": "stream",
     "text": [
      "统计于 2024-10-15 15:18:34\n",
      "\u001b[32m> exp_1_baseline_mpnn_lstm\u001b[0m\n",
      "\n",
      "[err_test] England,France,Italy,Spain\n",
      "\n",
      "7->1 (w7s2) | 7->1 (w7s6) | 7->1 (w7s13)\n",
      "[mpnn_lstm] 4.441\t1.588\t7.966\t24.56\t4.704\t1.569\t8.964\t26.953\t5.314\t2.049\t11.206\t34.741\n",
      "[    epoch] 475\t52\t145\t222\t453\t322\t172\t378\t359\t57\t440\t317\n",
      "\n",
      "\u001b[32m> exp_2_dynst_gt_only\u001b[0m\n"
     ]
    },
    {
     "name": "stdout",
     "output_type": "stream",
     "text": [
      "\n",
      "[err_test] England,France,Italy,Spain\n",
      "\n",
      "7->1 (w7s2) | 7->1 (w7s6) | 7->1 (w7s13)\n",
      "[    dynst] 5.436\t1.486\t7.437\t31.749\t4.894\t1.463\t8.08\t39.035\t6.637\t1.879\t11.299\t28.035\n",
      "[    epoch] 248\t422\t106\t448\t466\t256\t162\t487\t486\t276\t385\t2\n",
      "\n",
      "\u001b[32m> exp_3_missing_nodes_no_mask\u001b[0m\n",
      "\n",
      "[err_test] England,France,Italy,Spain\n",
      "\n",
      "7->1 (w7s2) | 7->1 (w7s6) | 7->1 (w7s13)\n",
      "[    dynst] 5.539\t1.46\t7.476\t24.212\t5.62\t1.676\t7.992\t33.099\t6.161\t1.867\t11.784\t28.034\n",
      "[    epoch] 338\t347\t247\t448\t365\t90\t162\t493\t281\t490\t235\t2\n",
      "\n"
     ]
    }
   ],
   "source": [
    "from datetime import datetime\n",
    "date = 1014\n",
    "print(f\"统计于 {datetime.now().strftime('%Y-%m-%d %H:%M:%S')}\")\n",
    "from show_result import show_result\n",
    "import os\n",
    "for f in os.listdir(f\"results/tests_{date}\")[:3]:\n",
    "    print(\"\\033[32m> {}\\033[0m\".format(f))\n",
    "    show_result(f\"results/tests_{date}/{f}\")\n",
    "    print()"
   ]
  },
  {
   "cell_type": "code",
   "execution_count": 3,
   "metadata": {},
   "outputs": [
    {
     "data": {
      "text/plain": [
       "False"
      ]
     },
     "execution_count": 3,
     "metadata": {},
     "output_type": "execute_result"
    }
   ],
   "source": []
  },
  {
   "cell_type": "code",
   "execution_count": null,
   "metadata": {
    "ExecuteTime": {
     "end_time": "2024-09-23T05:22:25.802814Z",
     "start_time": "2024-09-23T05:22:25.797529Z"
    }
   },
   "outputs": [],
   "source": [
    "raise NotImplementedError\n",
    "import os\n",
    "\n",
    "def delete_pth_files(directory):\n",
    "    for root, dirs, files in os.walk(directory):\n",
    "        for file in files:\n",
    "            if file.endswith('.pth'):\n",
    "                file_path = os.path.join(root, file)\n",
    "                os.remove(file_path)\n",
    "                print(f\"Deleted: {file_path}\")\n",
    "\n",
    "# 使用示例\n",
    "delete_pth_files('results/tests_old')\n"
   ]
  }
 ],
 "metadata": {
  "kernelspec": {
   "display_name": "lp",
   "language": "python",
   "name": "python3"
  },
  "language_info": {
   "codemirror_mode": {
    "name": "ipython",
    "version": 3
   },
   "file_extension": ".py",
   "mimetype": "text/x-python",
   "name": "python",
   "nbconvert_exporter": "python",
   "pygments_lexer": "ipython3",
   "version": "3.8.18"
  }
 },
 "nbformat": 4,
 "nbformat_minor": 2
}
