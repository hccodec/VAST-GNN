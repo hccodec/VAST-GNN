{
 "cells": [
  {
   "cell_type": "code",
   "execution_count": 1,
   "metadata": {},
   "outputs": [
    {
     "name": "stdout",
     "output_type": "stream",
     "text": [
      "统计于 2024-10-15 13:02:52\n",
      "\u001b[32m> exp_3_missing_nodes_80_mask_tcn_mlp\u001b[0m\n",
      "\n",
      "[err_test] England,France,Italy,Spain\n",
      "\n",
      "7->1 (w7s2) | 7->1 (w7s6) | 7->1 (w7s13)\n",
      "[    dynst] 4.913\t-\t-\t24.86\t4.705\t-\t-\t27.289\t5.711\t-\t-\t30.573\n",
      "[    epoch] 390\t-\t-\t8\t291\t-\t-\t6\t249\t-\t-\t4\n",
      "\n",
      "\u001b[32m> exp_2_missing_nodes_80_mask_mlp\u001b[0m\n",
      "\n",
      "[err_test] England,France,Italy,Spain\n",
      "\n",
      "7->1 (w7s2) | 7->1 (w7s6) | 7->1 (w7s13)\n",
      "[    dynst] 4.513\t-\t-\t24.456\t4.403\t-\t-\t27.062\t5.306\t-\t-\t31.879\n",
      "[    epoch] 212\t-\t-\t8\t225\t-\t-\t6\t327\t-\t-\t5\n",
      "\n",
      "\u001b[32m> exp_1_missing_nodes_80_mask_tcn\u001b[0m\n",
      "\n",
      "[err_test] England,France,Italy,Spain\n",
      "\n",
      "7->1 (w7s2) | 7->1 (w7s6) | 7->1 (w7s13)\n",
      "[    dynst] 4.729\t-\t-\t24.765\t5.151\t-\t-\t31.401\t5.784\t-\t-\t32.448\n",
      "[    epoch] 493\t-\t-\t495\t311\t-\t-\t489\t384\t-\t-\t5\n",
      "\n"
     ]
    }
   ],
   "source": [
    "from datetime import datetime\n",
    "print(f\"统计于 {datetime.now().strftime('%Y-%m-%d %H:%M:%S')}\")\n",
    "from show_result import show_result\n",
    "import os\n",
    "for f in os.listdir(\"results/tests_1015\")[::-1][:3]:\n",
    "    print(\"\\033[32m> {}\\033[0m\".format(f))\n",
    "    show_result(f\"results/tests_1015/{f}\")\n",
    "    print()"
   ]
  },
  {
   "cell_type": "code",
   "execution_count": 3,
   "metadata": {},
   "outputs": [
    {
     "data": {
      "text/plain": [
       "False"
      ]
     },
     "execution_count": 3,
     "metadata": {},
     "output_type": "execute_result"
    }
   ],
   "source": []
  },
  {
   "cell_type": "code",
   "execution_count": null,
   "metadata": {
    "ExecuteTime": {
     "end_time": "2024-09-23T05:22:25.802814Z",
     "start_time": "2024-09-23T05:22:25.797529Z"
    }
   },
   "outputs": [],
   "source": [
    "raise NotImplementedError\n",
    "import os\n",
    "\n",
    "def delete_pth_files(directory):\n",
    "    for root, dirs, files in os.walk(directory):\n",
    "        for file in files:\n",
    "            if file.endswith('.pth'):\n",
    "                file_path = os.path.join(root, file)\n",
    "                os.remove(file_path)\n",
    "                print(f\"Deleted: {file_path}\")\n",
    "\n",
    "# 使用示例\n",
    "delete_pth_files('results/tests_old')\n"
   ]
  }
 ],
 "metadata": {
  "kernelspec": {
   "display_name": "lp",
   "language": "python",
   "name": "python3"
  },
  "language_info": {
   "codemirror_mode": {
    "name": "ipython",
    "version": 3
   },
   "file_extension": ".py",
   "mimetype": "text/x-python",
   "name": "python",
   "nbconvert_exporter": "python",
   "pygments_lexer": "ipython3",
   "version": "3.8.18"
  }
 },
 "nbformat": 4,
 "nbformat_minor": 2
}
