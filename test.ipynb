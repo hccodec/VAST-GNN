{
 "cells": [
  {
   "cell_type": "code",
   "execution_count": 6,
   "metadata": {},
   "outputs": [
    {
     "name": "stdout",
     "output_type": "stream",
     "text": [
      "\u001b[32m> exp_7_lstm_80_mask\u001b[0m\n",
      "\n",
      "[err_test] England,France,Italy,Spain\n",
      "\n",
      "7->1 (w7s2) | 7->1 (w7s6) | 7->1 (w7s13)\n",
      "[     lstm] -\t-\t-\t-\t-\t-\t-\t-\t-\t-\t-\t-\n",
      "\n",
      "\u001b[32m> exp_6_mpnn_lstm_80_mask\u001b[0m\n",
      "\n",
      "[err_test] England,France,Italy,Spain\n",
      "\n",
      "7->1 (w7s2) | 7->1 (w7s6) | 7->1 (w7s13)\n",
      "[mpnn_lstm] -\t-\t-\t-\t-\t-\t-\t-\t-\t-\t-\t-\n",
      "\n",
      "\u001b[32m> exp_5_lstm\u001b[0m\n",
      "\n",
      "[err_test] England,France,Italy,Spain\n",
      "\n",
      "7->1 (w7s2) | 7->1 (w7s6) | 7->1 (w7s13)\n",
      "[     lstm] 5.333\t-\t-\t-\t5.777\t-\t-\t-\t5.335\t-\t-\t-\n",
      "\n",
      "\u001b[32m> exp_4_missing_nodes_80_mask\u001b[0m\n",
      "\n",
      "[err_test] England,France,Italy,Spain\n",
      "\n",
      "7->1 (w7s2) | 7->1 (w7s6) | 7->1 (w7s13)\n",
      "[    dynst] -\t-\t-\t-\t-\t-\t-\t-\t-\t-\t-\t-\n",
      "\n",
      "\u001b[32m> exp_3_missing_nodes_no_mask\u001b[0m\n",
      "\n",
      "[err_test] England,France,Italy,Spain\n",
      "\n",
      "7->1 (w7s2) | 7->1 (w7s6) | 7->1 (w7s13)\n",
      "[    dynst] 5.539\t1.46\t7.476\t24.212\t5.62\t1.676\t7.992\t33.099\t6.161\t1.867\t11.784\t28.034\n",
      "\n",
      "\u001b[32m> exp_2_dynst_gt_only\u001b[0m\n",
      "\n",
      "[err_test] England,France,Italy,Spain\n",
      "\n",
      "7->1 (w7s2) | 7->1 (w7s6) | 7->1 (w7s13)\n",
      "[    dynst] 5.436\t1.486\t7.437\t31.749\t4.894\t1.463\t8.08\t39.035\t6.637\t1.879\t11.299\t28.035\n",
      "\n",
      "\u001b[32m> exp_1_baseline_mpnn_lstm\u001b[0m\n",
      "\n",
      "[err_test] England,France,Italy,Spain\n",
      "\n",
      "7->1 (w7s2) | 7->1 (w7s6) | 7->1 (w7s13)\n",
      "[mpnn_lstm] 4.441\t1.588\t7.966\t24.56\t4.704\t1.569\t8.964\t26.953\t5.314\t2.049\t11.206\t34.741\n",
      "\n"
     ]
    }
   ],
   "source": [
    "from show_result import show_result\n",
    "import os\n",
    "for f in os.listdir(\"results/tests_1014\")[::-1]:\n",
    "    print(\"\\033[32m> {}\\033[0m\".format(f))\n",
    "    show_result(f\"results/tests_1014/{f}\")\n",
    "    print()"
   ]
  },
  {
   "cell_type": "code",
   "execution_count": null,
   "metadata": {},
   "outputs": [],
   "source": []
  },
  {
   "cell_type": "code",
   "execution_count": 2,
   "metadata": {
    "ExecuteTime": {
     "end_time": "2024-09-23T05:22:25.802814Z",
     "start_time": "2024-09-23T05:22:25.797529Z"
    }
   },
   "outputs": [
    {
     "ename": "NotImplementedError",
     "evalue": "",
     "output_type": "error",
     "traceback": [
      "\u001b[0;31m---------------------------------------------------------------------------\u001b[0m",
      "\u001b[0;31mNotImplementedError\u001b[0m                       Traceback (most recent call last)",
      "Cell \u001b[0;32mIn[2], line 1\u001b[0m\n\u001b[0;32m----> 1\u001b[0m \u001b[38;5;28;01mraise\u001b[39;00m \u001b[38;5;167;01mNotImplementedError\u001b[39;00m\n\u001b[1;32m      2\u001b[0m \u001b[38;5;28;01mimport\u001b[39;00m \u001b[38;5;21;01mos\u001b[39;00m\n\u001b[1;32m      4\u001b[0m \u001b[38;5;28;01mdef\u001b[39;00m \u001b[38;5;21mdelete_pth_files\u001b[39m(directory):\n",
      "\u001b[0;31mNotImplementedError\u001b[0m: "
     ]
    }
   ],
   "source": [
    "raise NotImplementedError\n",
    "import os\n",
    "\n",
    "def delete_pth_files(directory):\n",
    "    for root, dirs, files in os.walk(directory):\n",
    "        for file in files:\n",
    "            if file.endswith('.pth'):\n",
    "                file_path = os.path.join(root, file)\n",
    "                os.remove(file_path)\n",
    "                print(f\"Deleted: {file_path}\")\n",
    "\n",
    "# 使用示例\n",
    "delete_pth_files('results/tests_old')\n"
   ]
  }
 ],
 "metadata": {
  "kernelspec": {
   "display_name": "lp",
   "language": "python",
   "name": "python3"
  },
  "language_info": {
   "codemirror_mode": {
    "name": "ipython",
    "version": 3
   },
   "file_extension": ".py",
   "mimetype": "text/x-python",
   "name": "python",
   "nbconvert_exporter": "python",
   "pygments_lexer": "ipython3",
   "version": "3.8.18"
  }
 },
 "nbformat": 4,
 "nbformat_minor": 2
}
