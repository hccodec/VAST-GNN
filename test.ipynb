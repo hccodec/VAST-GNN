{
 "cells": [
  {
   "cell_type": "code",
   "execution_count": 26,
   "metadata": {
    "ExecuteTime": {
     "end_time": "2024-09-23T05:22:25.802814Z",
     "start_time": "2024-09-23T05:22:25.797529Z"
    }
   },
   "outputs": [],
   "source": [
    "from utils.args import models_list, graph_lambda_methods\n",
    "import numpy as np\n",
    "def adjust_lambda(epoch, num_epochs, lambda_0, lambda_n, lambda_epoch_max, method='cos'):\n",
    "    assert method in graph_lambda_methods\n",
    "    assert epoch < num_epochs\n",
    "\n",
    "    index = graph_lambda_methods.index(method)\n",
    "    if index == 0:\n",
    "        k = np.log(10 * lambda_0 / num_epochs)\n",
    "        return lambda_0 * np.exp(-k * epoch / num_epochs)\n",
    "    elif index == 1:\n",
    "        return lambda_0 * np.cos(np.pi / 2 / lambda_epoch_max * epoch)\n",
    "    else:\n",
    "        raise IndexError(\"请选择正确的 adjency matrix lambda 策略\")\n"
   ]
  },
  {
   "cell_type": "code",
   "execution_count": 6,
   "metadata": {},
   "outputs": [],
   "source": [
    "adjust_lambda()"
   ]
  }
 ],
 "metadata": {
  "kernelspec": {
   "display_name": "lp内核",
   "language": "python",
   "name": "lp"
  },
  "language_info": {
   "codemirror_mode": {
    "name": "ipython",
    "version": 3
   },
   "file_extension": ".py",
   "mimetype": "text/x-python",
   "name": "python",
   "nbconvert_exporter": "python",
   "pygments_lexer": "ipython3",
   "version": "3.8.18"
  }
 },
 "nbformat": 4,
 "nbformat_minor": 2
}
