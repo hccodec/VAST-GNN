{
 "cells": [
  {
   "cell_type": "code",
   "execution_count": 8,
   "metadata": {},
   "outputs": [
    {
     "name": "stdout",
     "output_type": "stream",
     "text": [
      "\u001b[32m> exp_7_lstm_80_mask\u001b[0m\n",
      "\n",
      "[err_test] England,France,Italy,Spain\n",
      "\n",
      "7->1 (w7s2) | 7->1 (w7s6) | 7->1 (w7s13)\n",
      "[     lstm] -\t-\t-\t-\t-\t-\t-\t-\t5.335\t-\t-\t-\n",
      "\n",
      "\u001b[32m> exp_6_mpnn_lstm_80_mask\u001b[0m\n",
      "\n",
      "[err_test] England,France,Italy,Spain\n",
      "\n",
      "7->1 (w7s2) | 7->1 (w7s6) | 7->1 (w7s13)\n",
      "[mpnn_lstm] -\t-\t-\t-\t-\t-\t-\t-\t5.314\t-\t-\t-\n",
      "\n",
      "\u001b[32m> exp_5_lstm\u001b[0m\n",
      "\n",
      "[err_test] England,France,Italy,Spain\n",
      "\n",
      "7->1 (w7s2) | 7->1 (w7s6) | 7->1 (w7s13)\n",
      "[     lstm] 5.333\t2.318\t-\t-\t5.777\t2.031\t-\t-\t5.335\t2.084\t-\t-\n",
      "\n",
      "\u001b[32m> exp_4_missing_nodes_80_mask\u001b[0m\n",
      "\n",
      "[err_test] England,France,Italy,Spain\n",
      "\n",
      "7->1 (w7s2) | 7->1 (w7s6) | 7->1 (w7s13)\n",
      "[    dynst] 5.539\t-\t-\t-\t-\t-\t-\t-\t6.161\t-\t-\t-\n",
      "\n"
     ]
    }
   ],
   "source": [
    "from show_result import show_result\n",
    "import os\n",
    "for f in os.listdir(\"results/tests_1014\")[::-1][:4]:\n",
    "    print(\"\\033[32m> {}\\033[0m\".format(f))\n",
    "    show_result(f\"results/tests_1014/{f}\")\n",
    "    print()"
   ]
  },
  {
   "cell_type": "code",
   "execution_count": null,
   "metadata": {},
   "outputs": [],
   "source": []
  },
  {
   "cell_type": "code",
   "execution_count": 2,
   "metadata": {
    "ExecuteTime": {
     "end_time": "2024-09-23T05:22:25.802814Z",
     "start_time": "2024-09-23T05:22:25.797529Z"
    }
   },
   "outputs": [
    {
     "ename": "NotImplementedError",
     "evalue": "",
     "output_type": "error",
     "traceback": [
      "\u001b[0;31m---------------------------------------------------------------------------\u001b[0m",
      "\u001b[0;31mNotImplementedError\u001b[0m                       Traceback (most recent call last)",
      "Cell \u001b[0;32mIn[2], line 1\u001b[0m\n\u001b[0;32m----> 1\u001b[0m \u001b[38;5;28;01mraise\u001b[39;00m \u001b[38;5;167;01mNotImplementedError\u001b[39;00m\n\u001b[1;32m      2\u001b[0m \u001b[38;5;28;01mimport\u001b[39;00m \u001b[38;5;21;01mos\u001b[39;00m\n\u001b[1;32m      4\u001b[0m \u001b[38;5;28;01mdef\u001b[39;00m \u001b[38;5;21mdelete_pth_files\u001b[39m(directory):\n",
      "\u001b[0;31mNotImplementedError\u001b[0m: "
     ]
    }
   ],
   "source": [
    "raise NotImplementedError\n",
    "import os\n",
    "\n",
    "def delete_pth_files(directory):\n",
    "    for root, dirs, files in os.walk(directory):\n",
    "        for file in files:\n",
    "            if file.endswith('.pth'):\n",
    "                file_path = os.path.join(root, file)\n",
    "                os.remove(file_path)\n",
    "                print(f\"Deleted: {file_path}\")\n",
    "\n",
    "# 使用示例\n",
    "delete_pth_files('results/tests_old')\n"
   ]
  }
 ],
 "metadata": {
  "kernelspec": {
   "display_name": "lp",
   "language": "python",
   "name": "python3"
  },
  "language_info": {
   "codemirror_mode": {
    "name": "ipython",
    "version": 3
   },
   "file_extension": ".py",
   "mimetype": "text/x-python",
   "name": "python",
   "nbconvert_exporter": "python",
   "pygments_lexer": "ipython3",
   "version": "3.8.18"
  }
 },
 "nbformat": 4,
 "nbformat_minor": 2
}
