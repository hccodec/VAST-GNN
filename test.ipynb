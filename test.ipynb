{
 "cells": [
  {
   "cell_type": "code",
   "execution_count": 26,
   "metadata": {
    "ExecuteTime": {
     "end_time": "2024-09-23T05:22:25.802814Z",
     "start_time": "2024-09-23T05:22:25.797529Z"
    }
   },
   "outputs": [],
   "source": [
    "raise NotImplementedError\n",
    "import os\n",
    "\n",
    "def delete_pth_files(directory):\n",
    "    for root, dirs, files in os.walk(directory):\n",
    "        for file in files:\n",
    "            if file.endswith('.pth'):\n",
    "                file_path = os.path.join(root, file)\n",
    "                os.remove(file_path)\n",
    "                print(f\"Deleted: {file_path}\")\n",
    "\n",
    "# 使用示例\n",
    "delete_pth_files('results/tests_old')\n"
   ]
  },
  {
   "cell_type": "code",
   "execution_count": 15,
   "metadata": {},
   "outputs": [
    {
     "name": "stdout",
     "output_type": "stream",
     "text": [
      "从 results/tests_1012/exp_1_dynst_gt_only 中提取结果\n",
      "\n",
      "[err_test] England,France,Italy,Spain\n",
      "\n",
      "7->1 (w7s2) | 7->1 (w7s6) | 7->1 (w7s13)\n",
      "[    dynst] 2.292\t0.98\t-\t-\t2.827\t1.314\t5.59\t-\t7.964\t1.746\t5.475\t11.957\n",
      "\n",
      "从 results/tests_1012/exp_2_dynst_gt_only 中提取结果\n",
      "\n",
      "[err_test] England,France,Italy,Spain\n",
      "\n",
      "7->1 (w7s2) | 7->1 (w7s6) | 7->1 (w7s13)\n",
      "[    dynst] 0.494\t0.346\t0.163\t1.538\t0.715\t0.555\t0.334\t1.155\t0.841\t1.669\t0.507\t1.709\n",
      "\n",
      "从 results/tests_1012/exp_3_dynst_gt_only 中提取结果\n",
      "\n",
      "[err_test] England,France,Italy,Spain\n",
      "\n",
      "7->1 (w7s2) | 7->1 (w7s6) | 7->1 (w7s13)\n",
      "[    dynst] 1.171\t0.24\t0.23\t1.86\t0.861\t0.334\t0.297\t0.974\t0.395\t0.59\t0.42\t1.724\n",
      "\n"
     ]
    },
    {
     "data": {
      "text/plain": [
       "0"
      ]
     },
     "execution_count": 15,
     "metadata": {},
     "output_type": "execute_result"
    }
   ],
   "source": [
    "import os\n",
    "os.system(\"python show_result.py --result-dir tests_1012 --exp 1_dynst_gt_only\")\n",
    "os.system(\"python show_result.py --result-dir tests_1012 --exp 2_dynst_gt_only\")\n",
    "os.system(\"python show_result.py --result-dir tests_1012 --exp 3_dynst_gt_only\")"
   ]
  },
  {
   "cell_type": "code",
   "execution_count": null,
   "metadata": {},
   "outputs": [],
   "source": []
  }
 ],
 "metadata": {
  "kernelspec": {
   "display_name": "lp",
   "language": "python",
   "name": "python3"
  },
  "language_info": {
   "codemirror_mode": {
    "name": "ipython",
    "version": 3
   },
   "file_extension": ".py",
   "mimetype": "text/x-python",
   "name": "python",
   "nbconvert_exporter": "python",
   "pygments_lexer": "ipython3",
   "version": "3.8.18"
  }
 },
 "nbformat": 4,
 "nbformat_minor": 2
}
