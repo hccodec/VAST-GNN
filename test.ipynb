{
 "cells": [
  {
   "cell_type": "code",
   "execution_count": 26,
   "metadata": {
    "ExecuteTime": {
     "end_time": "2024-09-23T05:22:25.802814Z",
     "start_time": "2024-09-23T05:22:25.797529Z"
    }
   },
   "outputs": [],
   "source": [
    "raise NotImplementedError\n",
    "import os\n",
    "\n",
    "def delete_pth_files(directory):\n",
    "    for root, dirs, files in os.walk(directory):\n",
    "        for file in files:\n",
    "            if file.endswith('.pth'):\n",
    "                file_path = os.path.join(root, file)\n",
    "                os.remove(file_path)\n",
    "                print(f\"Deleted: {file_path}\")\n",
    "\n",
    "# 使用示例\n",
    "delete_pth_files('results/tests_old')\n"
   ]
  },
  {
   "cell_type": "code",
   "execution_count": 5,
   "metadata": {},
   "outputs": [
    {
     "name": "stdout",
     "output_type": "stream",
     "text": [
      "从 results/tests_1014/exp_1_baseline_mpnn_lstm 中提取结果\n",
      "\n",
      "[err_test] England,France,Italy,Spain\n",
      "\n",
      "7->1 (w7s2) | 7->1 (w7s6) | 7->1 (w7s13)\n",
      "[mpnn_lstm] 4.441\t1.588\t7.966\t24.56\t4.704\t1.569\t8.964\t26.953\t5.314\t2.049\t11.206\t34.741\n",
      "从 results/tests_1014/exp_2_dynst_gt_only 中提取结果\n",
      "\n",
      "[err_test] England,France,Italy,Spain\n",
      "\n",
      "7->1 (w7s2) | 7->1 (w7s6) | 7->1 (w7s13)\n",
      "[    dynst] 5.436\t1.486\t-\t-\t4.894\t1.463\t-\t-\t6.637\t1.879\t11.299\t-\n",
      "从 results/tests_1014/exp_3_baseline_mpnn_lstm 中提取结果\n",
      "\n",
      "[err_test] England,France,Italy,Spain\n",
      "\n",
      "7->1 (w7s2) | 7->1 (w7s6) | 7->1 (w7s13)\n",
      "[mpnn_lstm] -\t-\t-\t-\t4.704\t1.569\t8.964\t26.953\t5.314\t2.049\t11.206\t34.741\n"
     ]
    }
   ],
   "source": [
    "from show_result import show_result\n",
    "show_result(\"results/tests_1014/exp_1_baseline_mpnn_lstm\")\n",
    "show_result(\"results/tests_1014/exp_2_dynst_gt_only\")\n",
    "show_result(\"results/tests_1014/exp_3_baseline_mpnn_lstm\")"
   ]
  },
  {
   "cell_type": "code",
   "execution_count": null,
   "metadata": {},
   "outputs": [],
   "source": []
  }
 ],
 "metadata": {
  "kernelspec": {
   "display_name": "lp",
   "language": "python",
   "name": "python3"
  },
  "language_info": {
   "codemirror_mode": {
    "name": "ipython",
    "version": 3
   },
   "file_extension": ".py",
   "mimetype": "text/x-python",
   "name": "python",
   "nbconvert_exporter": "python",
   "pygments_lexer": "ipython3",
   "version": "3.8.18"
  }
 },
 "nbformat": 4,
 "nbformat_minor": 2
}
