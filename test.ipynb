{
 "cells": [
  {
   "cell_type": "code",
   "execution_count": 15,
   "metadata": {},
   "outputs": [
    {
     "name": "stdout",
     "output_type": "stream",
     "text": [
      "统计于 2024-10-15 18:12:44\n",
      "\u001b[32m> exp_6_missing_nodes_50_mask_tcn_mlp\u001b[0m\n",
      "\n",
      "[err_test] England,France,Italy,Spain\n",
      "\n",
      "7->1 (w7s2) | 7->1 (w7s6) | 7->1 (w7s13)\n",
      "[    dynst] 5.013\t-\t-\t17.511\t5.217\t-\t-\t22.631\t5.914\t-\t-\t20.556\n",
      "[    epoch] 214\t-\t-\t6\t215\t-\t-\t389\t6\t-\t-\t478\n",
      "\n",
      "\u001b[32m> exp_7_mpnn_lstm_50_mask\u001b[0m\n",
      "\n",
      "[err_test] England,France,Italy,Spain\n",
      "\n",
      "7->1 (w7s2) | 7->1 (w7s6) | 7->1 (w7s13)\n",
      "[mpnn_lstm] 4.771\t-\t-\t21.596\t5.412\t-\t-\t24.399\t6.325\t-\t-\t24.2\n",
      "[    epoch] 368\t-\t-\t470\t494\t-\t-\t240\t237\t-\t-\t494\n",
      "\n",
      "\u001b[32m> exp_8_lstm_50_mask\u001b[0m\n",
      "\n",
      "[err_test] England,France,Italy,Spain\n",
      "\n",
      "7->1 (w7s2) | 7->1 (w7s6) | 7->1 (w7s13)\n",
      "[     lstm] 5.115\t-\t-\t21.375\t6.486\t-\t-\t24.432\t5.465\t-\t-\t26.353\n",
      "[    epoch] 75\t-\t-\t43\t312\t-\t-\t57\t138\t-\t-\t449\n",
      "\n"
     ]
    }
   ],
   "source": [
    "from datetime import datetime\n",
    "date = 1015\n",
    "print(f\"统计于 {datetime.now().strftime('%Y-%m-%d %H:%M:%S')}\")\n",
    "from show_result import show_result\n",
    "import os\n",
    "for f in os.listdir(f\"results/tests_{date}\")[5:]:\n",
    "    print(\"\\033[32m> {}\\033[0m\".format(f))\n",
    "    show_result(f\"results/tests_{date}/{f}\")\n",
    "    print()"
   ]
  },
  {
   "cell_type": "code",
   "execution_count": 3,
   "metadata": {},
   "outputs": [
    {
     "data": {
      "text/plain": [
       "False"
      ]
     },
     "execution_count": 3,
     "metadata": {},
     "output_type": "execute_result"
    }
   ],
   "source": []
  },
  {
   "cell_type": "code",
   "execution_count": null,
   "metadata": {
    "ExecuteTime": {
     "end_time": "2024-09-23T05:22:25.802814Z",
     "start_time": "2024-09-23T05:22:25.797529Z"
    }
   },
   "outputs": [],
   "source": [
    "raise NotImplementedError\n",
    "import os\n",
    "\n",
    "def delete_pth_files(directory):\n",
    "    for root, dirs, files in os.walk(directory):\n",
    "        for file in files:\n",
    "            if file.endswith('.pth'):\n",
    "                file_path = os.path.join(root, file)\n",
    "                os.remove(file_path)\n",
    "                print(f\"Deleted: {file_path}\")\n",
    "\n",
    "# 使用示例\n",
    "delete_pth_files('results/tests_old')\n"
   ]
  }
 ],
 "metadata": {
  "kernelspec": {
   "display_name": "lp",
   "language": "python",
   "name": "python3"
  },
  "language_info": {
   "codemirror_mode": {
    "name": "ipython",
    "version": 3
   },
   "file_extension": ".py",
   "mimetype": "text/x-python",
   "name": "python",
   "nbconvert_exporter": "python",
   "pygments_lexer": "ipython3",
   "version": "3.8.18"
  }
 },
 "nbformat": 4,
 "nbformat_minor": 2
}
