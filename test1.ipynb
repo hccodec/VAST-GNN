{
 "cells": [
  {
   "cell_type": "code",
   "execution_count": null,
   "metadata": {},
   "outputs": [],
   "source": [
    "import os\n",
    "lines = {}\n",
    "for dirname, dirpaths, files in os.walk('.'):\n",
    "    if \"history_codes\" in dirname: continue\n",
    "    for file in files:\n",
    "        if file.endswith('.py'):\n",
    "            filepath = os.path.join(dirname, file)\n",
    "            with open(filepath) as f:\n",
    "                lines = {\n",
    "                    **lines,\n",
    "                    **{filepath: len(f.readlines())}\n",
    "                }\n",
    "[print(line) for line in lines.items()]\n",
    "print(f\"Total lines of code: {sum(lines.values())}\")"
   ]
  },
  {
   "cell_type": "code",
   "execution_count": null,
   "metadata": {},
   "outputs": [
    {
     "data": {
      "application/vnd.jupyter.widget-view+json": {
       "model_id": "e484fc03f84740e797a40054f2e06960",
       "version_major": 2,
       "version_minor": 0
      },
      "text/plain": [
       "  0%|          | 0/160 [00:00<?, ?it/s]"
      ]
     },
     "metadata": {},
     "output_type": "display_data"
    }
   ],
   "source": [
    "import zipfile, os\n",
    "from tqdm.auto import tqdm\n",
    "from best_results import paths, paths_flunet\n",
    "\n",
    "best_result_paths = {'dataforgood': paths, 'flunet': paths_flunet}\n",
    "country_names = {\n",
    "    **{'EN': \"England\", 'FR': \"France\", 'IT': 'Italy', 'ES': 'Spain', 'NZ': 'NewZealand', 'JP': 'Japan'},\n",
    "    **{'h1n1': 'h1n1', 'h3n2': 'h3n2', 'BY': 'BY', 'BV': 'BV'}\n",
    "}\n",
    "\n",
    "total = sum([1 for dataset, paths_dataset in best_result_paths.items() for observed_ratio in paths_dataset for key in paths_dataset[observed_ratio].index])\n",
    "\n",
    "\n",
    "qbar = tqdm(total=total)\n",
    "\n",
    "with zipfile.ZipFile(\"results.zip\", \"w\") as f:\n",
    "    for dataset, paths_dataset in best_result_paths.items():\n",
    "        for observed_ratio in paths_dataset:\n",
    "            for y, country_code, model_name in paths_dataset[observed_ratio].index:\n",
    "                old_model_path = paths_dataset[observed_ratio].loc[y, country_code, model_name].path\n",
    "                old_args_path = os.path.join(os.path.dirname(old_model_path), country_names[country_code], 'args.txt')\n",
    "                new_model_path = os.path.join('{}_{}_y{}_{}_{}.pth'.format(dataset, observed_ratio, y, country_code, model_name))\n",
    "                new_args_path = os.path.join('{}_{}_y{}_{}_{}_args.txt'.format(dataset, observed_ratio, y, country_code, model_name))\n",
    "                f.write(old_model_path, arcname=new_model_path)\n",
    "                f.write(old_args_path, arcname=new_args_path)\n",
    "                qbar.update()"
   ]
  }
 ],
 "metadata": {
  "kernelspec": {
   "display_name": "lp",
   "language": "python",
   "name": "python3"
  },
  "language_info": {
   "codemirror_mode": {
    "name": "ipython",
    "version": 3
   },
   "file_extension": ".py",
   "mimetype": "text/x-python",
   "name": "python",
   "nbconvert_exporter": "python",
   "pygments_lexer": "ipython3",
   "version": "3.8.18"
  }
 },
 "nbformat": 4,
 "nbformat_minor": 2
}
