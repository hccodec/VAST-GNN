{
 "cells": [
  {
   "cell_type": "code",
   "execution_count": 11,
   "metadata": {},
   "outputs": [
    {
     "name": "stdout",
     "output_type": "stream",
     "text": [
      "('./eval.py', 100)\n",
      "('./meta.py', 160)\n",
      "('./meta_bak.py', 337)\n",
      "('./main.py', 217)\n",
      "('./show_result.py', 257)\n",
      "('./train_test_meta.py', 379)\n",
      "('./best_results.py', 334)\n",
      "('./train_test.py', 411)\n",
      "('./models/LSTM_ONLY.py', 34)\n",
      "('./models/MPNN_LSTM.py', 198)\n",
      "('./models/others.py', 246)\n",
      "('./models/dynst.py', 283)\n",
      "('./utils/model_selector.py', 53)\n",
      "('./utils/utils.py', 316)\n",
      "('./utils/args.py', 207)\n",
      "('./utils/logger.py', 89)\n",
      "('./utils/test.py', 156)\n",
      "('./utils/datetime.py', 141)\n",
      "('./utils/datasets.py', 525)\n",
      "('./visualization/vis.py', 208)\n",
      "Total lines of code: 4651\n"
     ]
    }
   ],
   "source": [
    "import os\n",
    "lines = {}\n",
    "for dirname, dirpaths, files in os.walk('.'):\n",
    "    if \"history_codes\" in dirname: continue\n",
    "    for file in files:\n",
    "        if file.endswith('.py'):\n",
    "            filepath = os.path.join(dirname, file)\n",
    "            with open(filepath) as f:\n",
    "                lines = {\n",
    "                    **lines,\n",
    "                    **{filepath: len(f.readlines())}\n",
    "                }\n",
    "[print(line) for line in lines.items()]\n",
    "print(f\"Total lines of code: {sum(lines.values())}\")"
   ]
  }
 ],
 "metadata": {
  "kernelspec": {
   "display_name": "lp",
   "language": "python",
   "name": "python3"
  },
  "language_info": {
   "codemirror_mode": {
    "name": "ipython",
    "version": 3
   },
   "file_extension": ".py",
   "mimetype": "text/x-python",
   "name": "python",
   "nbconvert_exporter": "python",
   "pygments_lexer": "ipython3",
   "version": "3.8.18"
  }
 },
 "nbformat": 4,
 "nbformat_minor": 2
}
