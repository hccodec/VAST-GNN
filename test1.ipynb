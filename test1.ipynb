{
 "cells": [
  {
   "cell_type": "code",
   "execution_count": 11,
   "metadata": {},
   "outputs": [
    {
     "name": "stdout",
     "output_type": "stream",
     "text": [
      "('./eval.py', 100)\n",
      "('./meta.py', 160)\n",
      "('./meta_bak.py', 337)\n",
      "('./main.py', 217)\n",
      "('./show_result.py', 257)\n",
      "('./train_test_meta.py', 379)\n",
      "('./best_results.py', 334)\n",
      "('./train_test.py', 411)\n",
      "('./models/LSTM_ONLY.py', 34)\n",
      "('./models/MPNN_LSTM.py', 198)\n",
      "('./models/others.py', 246)\n",
      "('./models/dynst.py', 283)\n",
      "('./utils/model_selector.py', 53)\n",
      "('./utils/utils.py', 316)\n",
      "('./utils/args.py', 207)\n",
      "('./utils/logger.py', 89)\n",
      "('./utils/test.py', 156)\n",
      "('./utils/datetime.py', 141)\n",
      "('./utils/datasets.py', 525)\n",
      "('./visualization/vis.py', 208)\n",
      "Total lines of code: 4651\n"
     ]
    }
   ],
   "source": [
    "import os\n",
    "lines = {}\n",
    "for dirname, dirpaths, files in os.walk('.'):\n",
    "    if \"history_codes\" in dirname: continue\n",
    "    for file in files:\n",
    "        if file.endswith('.py'):\n",
    "            filepath = os.path.join(dirname, file)\n",
    "            with open(filepath) as f:\n",
    "                lines = {\n",
    "                    **lines,\n",
    "                    **{filepath: len(f.readlines())}\n",
    "                }\n",
    "[print(line) for line in lines.items()]\n",
    "print(f\"Total lines of code: {sum(lines.values())}\")"
   ]
  },
  {
   "cell_type": "code",
   "execution_count": 17,
   "metadata": {},
   "outputs": [
    {
     "data": {
      "application/vnd.jupyter.widget-view+json": {
       "model_id": "eed49c0b6cf047ba8da0bb9228a16bfa",
       "version_major": 2,
       "version_minor": 0
      },
      "text/plain": [
       "  0%|          | 0/160 [00:00<?, ?it/s]"
      ]
     },
     "metadata": {},
     "output_type": "display_data"
    }
   ],
   "source": [
    "import zipfile, os\n",
    "from tqdm.auto import tqdm\n",
    "from best_results import paths, paths_flunet\n",
    "\n",
    "best_result_paths = {'dataforgood': paths, 'flunet': paths_flunet}\n",
    "\n",
    "total = 0\n",
    "\n",
    "for dataset, paths_dataset in best_result_paths.items():\n",
    "    for o in paths_dataset:\n",
    "        for key in paths_dataset[o].index:\n",
    "            total += 1\n",
    "\n",
    "qbar = tqdm(total=total)\n",
    "\n",
    "with zipfile.ZipFile(\"results.zip\", \"w\") as f:\n",
    "    for dataset, paths_dataset in best_result_paths.items():\n",
    "        for o in paths_dataset:\n",
    "            for key in paths_dataset[o].index:\n",
    "                old_path = paths_dataset[o].loc[key].path\n",
    "                new_path = os.path.join('{}_{}_y{}_{}_{}.pth'.format(dataset, o, *key))\n",
    "                f.write(old_path, arcname=new_path)\n",
    "                qbar.update()"
   ]
  }
 ],
 "metadata": {
  "kernelspec": {
   "display_name": "lp",
   "language": "python",
   "name": "python3"
  },
  "language_info": {
   "codemirror_mode": {
    "name": "ipython",
    "version": 3
   },
   "file_extension": ".py",
   "mimetype": "text/x-python",
   "name": "python",
   "nbconvert_exporter": "python",
   "pygments_lexer": "ipython3",
   "version": "3.8.18"
  }
 },
 "nbformat": 4,
 "nbformat_minor": 2
}
