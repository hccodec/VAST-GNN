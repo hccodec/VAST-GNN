{
 "cells": [
  {
   "cell_type": "code",
   "execution_count": 16,
   "metadata": {},
   "outputs": [],
   "source": [
    "result_dir = \"results/results_test/exp_test15\""
   ]
  },
  {
   "cell_type": "code",
   "execution_count": 7,
   "metadata": {},
   "outputs": [
    {
     "name": "stdout",
     "output_type": "stream",
     "text": [
      "-\t-\t-\t-\t-\t-\t-\t-\t-\t-\t-\t-\t-\t-\t-\t-\t-\t-\t-\t-\t-\t-\t-\t-\n"
     ]
    }
   ],
   "source": [
    "# 从 log.txt 中提取实验结果\n",
    "'''\n",
    "    从 log.txt 中提取实验结果\n",
    "    分别是第三波和第四波的 (21,7) (21,14) (21,21) 共六次的实验结果\n",
    "    每次都分\n",
    "        test mae,\n",
    "        test rmse,\n",
    "        early_stop_epoch,\n",
    "        result dir timestamp\n",
    "    四次\n",
    "'''\n",
    "import os, re\n",
    "\n",
    "exp = 0\n",
    "files = os.listdir(result_dir)\n",
    "assert not len(files) % 6\n",
    "files = [sorted(files[i: i + 6], key=lambda i: int(i.split('_')[0]) * 100 + int(i.split('_')[2])) for i in range(len(files) // 6)]\n",
    "# sorted()\n",
    "files = files[exp]\n",
    "res = ()\n",
    "for exp in files:\n",
    "    path = os.path.join(result_dir, exp, \"log.txt\")\n",
    "    with open(path) as f: lines = f.readlines()\n",
    "    for i in range(len(lines)):\n",
    "        if \"训练完毕，开始评估\" in lines[i]:\n",
    "            break\n",
    "    try:\n",
    "        test_metrices = re.search(r\"\\[test.*\\]\\ (.*)\", lines[i + 1]).groups()\n",
    "        test_metrices = test_metrices[0].split('/')\n",
    "        epoch, test_loss = re.search(r\"\\[Epoch\\]\\ (\\d+).*\\[Loss.*?/([\\d.]+)\", lines[i - 2]).groups()\n",
    "        res += (*test_metrices, epoch, exp.split('_')[-1])\n",
    "    except Exception as e:\n",
    "        res += (('-',) * 4)\n",
    "print('\\t'.join(res))\n",
    "    \n"
   ]
  },
  {
   "cell_type": "code",
   "execution_count": 17,
   "metadata": {},
   "outputs": [
    {
     "name": "stdout",
     "output_type": "stream",
     "text": [
      "/home/hbj/workspace/vscode_workspace/lp/workspace/custom\n",
      "'NoneType' object has no attribute 'groups'\n",
      "latest\n",
      "19.613\t24.849\t999\t20240715203451\t18.039\t23.899\t999\t20240715203452\t17.440\t23.902\t999\t20240715203452\t12.662\t15.259\t999\t20240715203452\t11.586\t14.215\t999\t20240715203453\t-\t-\t-\t-\n",
      "best\n",
      "19.631\t24.867\t992\t20240715203451\t18.017\t23.880\t996\t20240715203452\t17.440\t23.902\t999\t20240715203452\t12.540\t15.148\t998\t20240715203452\t11.639\t14.254\t998\t20240715203453\t19.827\t26.238\t12\t20240715203454\n"
     ]
    },
    {
     "data": {
      "text/plain": [
       "CompletedProcess(args=['python', 'utils/record_result.py', '-d', '/home/hbj/workspace/vscode_workspace/lp/workspace/custom/results/results_test/exp_test15'], returncode=0)"
      ]
     },
     "execution_count": 17,
     "metadata": {},
     "output_type": "execute_result"
    }
   ],
   "source": [
    "import subprocess, os\n",
    "print(os.getcwd())\n",
    "path = os.path.join(os.getcwd(), \"results/results_test/exp_test15\")\n",
    "subprocess.run(f'python utils/record_result.py -d {path}'.split(' '))"
   ]
  },
  {
   "cell_type": "code",
   "execution_count": null,
   "metadata": {},
   "outputs": [],
   "source": [
    "%matplotlib inline\n",
    "\n",
    "import geopandas as gpd\n",
    "import matplotlib.pyplot as plt\n",
    "gdf = gpd.read_file('../data/multiwave_data/tokyo_shapefile/tokyo.shp')\n",
    "fig, ax = plt.subplots(1, 1, figsize=(10, 10))\n",
    "ax.axis(False)\n",
    "gdf.plot(ax=ax, legend=True, cmap='OrRd', missing_kwds={\"color\": \"lightgrey\"})\n",
    "plt.show()"
   ]
  },
  {
   "cell_type": "code",
   "execution_count": null,
   "metadata": {},
   "outputs": [],
   "source": [
    "import geopandas as gpd\n",
    "import pandas as pd\n",
    "from main import read_data, swap_key\n",
    "from argparse import Namespace\n",
    "import matplotlib.pyplot as plt\n",
    "from ipywidgets import interact_manual\n",
    "\n",
    "# 读取数据\n",
    "data = read_data(Namespace(data_dir='../data/multiwave_data'))\n",
    "zone_data = data[1]\n",
    "zone_data = swap_key(zone_data)\n",
    "\n",
    "# 将字典转换为DataFrame\n",
    "time_series = pd.DataFrame(zone_data).T\n",
    "time_series.index.name = 'JCODE'\n",
    "\n",
    "# 读取shapefile\n",
    "gdf = gpd.read_file('../data/multiwave_data/tokyo_shapefile/tokyo.shp')\n",
    "gdf = gdf.set_index('JCODE').join(time_series)\n",
    "\n",
    "# 获取所有的时间点\n",
    "time_points = time_series.columns\n",
    "\n",
    "# 设置绘图\n",
    "def plot_map(date):\n",
    "    fig, ax = plt.subplots(1, 1, figsize=(10, 10))\n",
    "    ax.set_title(f\"Date: {date}\")\n",
    "    gdf.plot(column=date, ax=ax, legend=True, cmap='OrRd', missing_kwds={\"color\": \"lightgrey\"})\n",
    "    plt.show()\n",
    "\n",
    "# 创建交互式控件\n",
    "interact_manual(plot_map, date=time_points)\n"
   ]
  },
  {
   "cell_type": "code",
   "execution_count": 2,
   "metadata": {},
   "outputs": [],
   "source": [
    "def check(\n",
    "    csv_dir=\"results_test/exp_test/4_21_7_20240705222323\",\n",
    "    epoch_end=None, incomplete=True\n",
    "):\n",
    "    import os, pandas as pd\n",
    "    import matplotlib.pyplot as plt\n",
    "    from utils.custom_datetime import date2str, str2date\n",
    "\n",
    "    check_keys = ['mae_test', 'rmse_test', 'mae_val', 'rmse_val']\n",
    "    # print(\"{} 结果可视化\".format(', '.join(check_keys)))\n",
    "    # latest_dir = sorted(os.listdir('results'))[idx]\n",
    "    # res = pd.read_csv(f'results/{latest_dir}/results_jp.csv')\n",
    "    csv_path = os.path.join(csv_dir, \"results_jp.csv\")\n",
    "    latest_dir = csv_path.split('/')[-2].split('_')[-1]\n",
    "    res = pd.read_csv(csv_path)\n",
    "    index = list(res[\"loss_test\"][:epoch_end]).index(min(res[\"loss_test\"][:epoch_end]))\n",
    "    print(f'[Min {list(res[\"Epoch\"])[index]}]', ' '.join([f'[{key}] {list(res[key])[index]}' for key in check_keys]))\n",
    "    fig, ax = plt.subplots(1, 2, figsize=(8, 2))\n",
    "    fig.suptitle(f\"({index}) \" + date2str(str2date(latest_dir, '%Y%m%d%H%M%S'), '%Y-%m-%d %H:%M:%S'))\n",
    "    if epoch_end is None: epoch_end = len(res['Epoch'])\n",
    "    assert epoch_end <= len(res['Epoch'])\n",
    "    for key in check_keys[:2]: ax[0].plot(res['Epoch'][:epoch_end], res[key][:epoch_end])\n",
    "    ax[0].legend(check_keys[:2]); ax[0].set_title('test')\n",
    "    for key in check_keys[2:]: ax[1].plot(res['Epoch'][:epoch_end], res[key][:epoch_end])\n",
    "    ax[1].legend(check_keys[2:]); ax[1].set_title('validate')\n",
    "    plt.show()\n",
    "    print('|'.join(list(res.keys())))"
   ]
  },
  {
   "cell_type": "code",
   "execution_count": 3,
   "metadata": {},
   "outputs": [
    {
     "name": "stdout",
     "output_type": "stream",
     "text": [
      "[Min 495] [mae_test] 9.932 [rmse_test] 13.592 [mae_val] 2.388 [rmse_val] 3.25\n"
     ]
    },
    {
     "data": {
      "image/png": "[encoded data removed]",
      "text/plain": [
       "<Figure size 800x200 with 2 Axes>"
      ]
     },
     "metadata": {},
     "output_type": "display_data"
    },
    {
     "name": "stdout",
     "output_type": "stream",
     "text": [
      "Epoch|loss_train|loss_val|loss_test|mae_val|rmse_val|mae_test|rmse_test|lr|time\n"
     ]
    }
   ],
   "source": [
    "path = 'results/test/exp_test2/3_21_14_20240706103029'\n",
    "check(path)"
   ]
  },
  {
   "cell_type": "code",
   "execution_count": null,
   "metadata": {},
   "outputs": [],
   "source": [
    "# 查看 adjust_lambda\n",
    "from argparse import Namespace, ArgumentParser\n",
    "import numpy as np, math\n",
    "import matplotlib.pyplot as plt\n",
    "choices = ['linear', 'square', 'step', 'exp']\n",
    "parser = ArgumentParser()\n",
    "parser.add_argument('--epochs', type=int, default=1000, help='Number of epochs to train.')\n",
    "parser.add_argument('--graph-learner-decay', choices=choices, default='square', help='设置使用图学习器评估loss的衰减')\n",
    "parser.add_argument('--graph-learner-decay-k', default=1e-2, help='lambda_T = k * lambda_0')\n",
    "parser.add_argument('--graph-learner-decay-start-epoch', default=50, help='衰减开始epoch')\n",
    "parser.add_argument('--graph-learner-decay-start-lambda', default=1., help='衰减开始值')\n",
    "parser.add_argument('--f', help='')\n",
    "args = parser.parse_args()\n",
    "\n",
    "def adjust_lambda(args, epoch, consider_start_epoch=True):\n",
    "    epoch_start = args.graph_learner_decay_start_epoch\n",
    "    k = args.graph_learner_decay_k  # 衰减速率\n",
    "\n",
    "    lambda_0 = args.graph_learner_decay_start_lambda\n",
    "    y0 = lambda_0 #  f(epoch_start)\n",
    "\n",
    "    if consider_start_epoch:\n",
    "        if epoch <= epoch_start: return lambda_0\n",
    "        else:\n",
    "            y0 = adjust_lambda(args, epoch_start, False)\n",
    "\n",
    "    if args.graph_learner_decay == 'linear':\n",
    "        res = 1 + (k - 1) / args.epochs * epoch\n",
    "    elif args.graph_learner_decay == 'step':\n",
    "        res = 1 - k * 10 * (epoch // (args.epochs * k * 10))\n",
    "    elif args.graph_learner_decay == 'square':\n",
    "        res = 1 + (k - 1) * (epoch / args.epochs) ** 2\n",
    "    elif args.graph_learner_decay == 'exp':\n",
    "        res = 2 - np.exp(np.log(2 - k) * (epoch / args.epochs))\n",
    "    return lambda_0 * res * (1 - k) / (y0 - k)\n",
    "\n",
    "x = range(1000)\n",
    "ys = None\n",
    "for i in range(len(choices)):\n",
    "    args.graph_learner_decay = choices[i]\n",
    "    if ys is None:\n",
    "        ys = [[adjust_lambda(args, i) for i in x]]\n",
    "    else:\n",
    "        ys += [[adjust_lambda(args, i) for i in x]]\n",
    "[plt.plot(x, y) for y in ys]\n",
    "plt.legend(['linear', 'step', 'square', 'exp'])\n",
    "plt.show()"
   ]
  },
  {
   "cell_type": "code",
   "execution_count": null,
   "metadata": {},
   "outputs": [],
   "source": [
    "adjust_lambda(args, 100)"
   ]
  },
  {
   "cell_type": "code",
   "execution_count": null,
   "metadata": {},
   "outputs": [],
   "source": []
  },
  {
   "cell_type": "code",
   "execution_count": null,
   "metadata": {},
   "outputs": [],
   "source": []
  }
 ],
 "metadata": {
  "kernelspec": {
   "display_name": "hbj",
   "language": "python",
   "name": "python3"
  },
  "language_info": {
   "codemirror_mode": {
    "name": "ipython",
    "version": 3
   },
   "file_extension": ".py",
   "mimetype": "text/x-python",
   "name": "python",
   "nbconvert_exporter": "python",
   "pygments_lexer": "ipython3",
   "version": "3.8.18"
  }
 },
 "nbformat": 4,
 "nbformat_minor": 2
}
